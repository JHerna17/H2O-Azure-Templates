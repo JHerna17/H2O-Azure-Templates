{
 "cells": [
  {
   "cell_type": "markdown",
   "metadata": {},
   "source": [
    "### Let's first configure the Spark cluster\n",
    "<b>Make sure that:<br> </b>\n",
    "1. You are adding the right Sparkling Water version\n",
    "> For Spark 2.0 -> use the latest Sparkling Water 2.0 Maven coordinates [here](https://mvnrepository.com/artifact/ai.h2o/sparkling-water-core_2.11)<br>\n",
    "> For Spark 1.6 -> use the lastest Sparkling Water 1.6 Maven coordinates [here](https://mvnrepository.com/artifact/ai.h2o/sparkling-water-core_2.10)\n",
    "2. Set the driver and executor memory to a max of 75% (see [here](http://spark.apache.org/docs/latest/hardware-provisioning.html)) of the RAM of the worker VM types selected on cluster creation\n",
    ">The default worker VM type is D13_v2 (56G RAM, 8 cores), so 75% of RAM = 42G<br>\n",
    ">For information on all available VM sizes click [here](https://azure.microsoft.com/en-us/documentation/articles/virtual-machines-windows-sizes/#dv2-series) \n",
    "3. Set numExecutors to the amount of workers created in the clusters.\n",
    ">The default number of worker nodes is 3<br>"
   ]
  },
  {
   "cell_type": "code",
   "execution_count": 1,
   "metadata": {
    "collapsed": false
   },
   "outputs": [
    {
     "data": {
      "text/html": [
       "Current session configs: <tt>{u'numExecutors': 3, u'executorMemory': u'42G', u'kind': 'pyspark', u'conf': {u'spark.jars.packages': u'ai.h2o:sparkling-water-core_2.11:2.0.2,com.databricks:spark-csv_2.10:1.5.0', u'spark.task.maxFailures': u'1', u'spark.yarn.am.extraJavaOption': u'-XX:MaxPermSize=384m', u'maximizeResourceAllocation': u'true', u'spark.yarn.max.executor.failures': u'1', u'spark.scheduler.minRegisteredResourcesRatio': u'1', u'spark.locality.wait': u'3000'}, u'driverMemory': u'42G'}</tt><br>"
      ],
      "text/plain": [
       "<IPython.core.display.HTML object>"
      ]
     },
     "metadata": {},
     "output_type": "display_data"
    },
    {
     "data": {
      "text/html": [
       "No active sessions."
      ],
      "text/plain": [
       "<IPython.core.display.HTML object>"
      ]
     },
     "metadata": {},
     "output_type": "display_data"
    }
   ],
   "source": [
    "%%configure -f\n",
    "{\n",
    "    \"conf\":{\n",
    "        \"spark.jars.packages\":\"ai.h2o:sparkling-water-core_2.11:2.0.2,com.databricks:spark-csv_2.10:1.5.0\",\n",
    "        \"spark.locality.wait\":\"3000\",\n",
    "        \"spark.scheduler.minRegisteredResourcesRatio\":\"1\",\n",
    "        \"spark.task.maxFailures\":\"1\",\n",
    "        \"spark.yarn.am.extraJavaOption\":\"-XX:MaxPermSize=384m\",\n",
    "        \"spark.yarn.max.executor.failures\":\"1\",\n",
    "        \"maximizeResourceAllocation\": \"true\"\n",
    "    },\n",
    "    \"driverMemory\":\"42G\",\n",
    "    \"executorMemory\":\"42G\",\n",
    "    \"numExecutors\":3\n",
    "}"
   ]
  },
  {
   "cell_type": "markdown",
   "metadata": {},
   "source": [
    "Here we add the pySpark egg file from the downloaded H2O Sparkling water distribution.\n",
    "<br><b> Make sure that file name of the egg file below matches the downloaded distribution of Sparkling Water</b>"
   ]
  },
  {
   "cell_type": "code",
   "execution_count": 2,
   "metadata": {
    "collapsed": false
   },
   "outputs": [
    {
     "name": "stdout",
     "output_type": "stream",
     "text": [
      "Starting Spark application\n"
     ]
    },
    {
     "data": {
      "text/html": [
       "<table>\n",
       "<tr><th>ID</th><th>YARN Application ID</th><th>Kind</th><th>State</th><th>Spark UI</th><th>Driver log</th><th>Current session?</th></tr><tr><td>3</td><td>application_1481782795248_0007</td><td>pyspark</td><td>idle</td><td><a target=\"_blank\" href=\"http://hn1-basicf.scp3nsrqyejutic35ezqh0infd.jx.internal.cloudapp.net:8088/proxy/application_1481782795248_0007/\">Link</a></td><td><a target=\"_blank\" href=\"http://192.168.0.6:30060/node/containerlogs/container_1481782795248_0007_01_000001/livy\">Link</a></td><td>✔</td></tr></table>"
      ],
      "text/plain": [
       "<IPython.core.display.HTML object>"
      ]
     },
     "metadata": {},
     "output_type": "display_data"
    },
    {
     "name": "stdout",
     "output_type": "stream",
     "text": [
      "SparkSession available as 'spark'.\n"
     ]
    }
   ],
   "source": [
    "import os\n",
    "os.environ[\"PYTHON_EGG_CACHE\"] = \"~/\"\n",
    "\n",
    "#Spark 2.0\n",
    "sc.addPyFile('wasb:///H2O-Sparkling-Water-eggsfiles/h2o_pysparkling_2.0-2.0.2-py2.7.egg')\n",
    "\n",
    "#Spark 1.6\n",
    "#sc.addPyFile('wasb:///H2O-Sparkling-Water-eggsfiles/h2o_pysparkling_1.6-1.6.8-py2.7.egg')"
   ]
  },
  {
   "cell_type": "markdown",
   "metadata": {},
   "source": [
    "# Sentiment Analysis with PySparkling\n",
    "The Amazon Fine Food Reviews dataset consists of 568,454 food reviews Amazon users left up to October 2012.\n",
    "\n",
    "> This data was originally published on SNAP as part of the paper: J. McAuley and J. Leskovec. _From amateurs to connoisseurs: modeling the evolution of user expertise through online reviews_. WWW, 2013.\n",
    "\n",
    "https://www.kaggle.com/snap/amazon-fine-food-reviews"
   ]
  },
  {
   "cell_type": "markdown",
   "metadata": {},
   "source": [
    "## Prepare environment"
   ]
  },
  {
   "cell_type": "code",
   "execution_count": 3,
   "metadata": {
    "collapsed": false
   },
   "outputs": [
    {
     "name": "stdout",
     "output_type": "stream",
     "text": [
      "Warning: if you don't want to start local H2O server, then use of `h2o.connect()` is preferred.\n",
      "Checking whether there is an H2O instance running at http://192.168.0.6:54321. connected.\n",
      "--------------------------  -------------------------------\n",
      "H2O cluster uptime:         11 secs\n",
      "H2O cluster version:        3.10.0.10\n",
      "H2O cluster version age:    1 month and 7 days\n",
      "H2O cluster name:           sparkling-water-yarn_1021435016\n",
      "H2O cluster total nodes:    2\n",
      "H2O cluster free memory:    74.7 Gb\n",
      "H2O cluster total cores:    16\n",
      "H2O cluster allowed cores:  16\n",
      "H2O cluster status:         accepting new members, healthy\n",
      "H2O connection url:         http://192.168.0.6:54321\n",
      "H2O connection proxy:\n",
      "Python version:             2.7.12 final\n",
      "--------------------------  -------------------------------"
     ]
    }
   ],
   "source": [
    "import pyspark\n",
    "import pysparkling, h2o\n",
    "\n",
    "h2o_context = pysparkling.H2OContext.getOrCreate(sc)"
   ]
  },
  {
   "cell_type": "markdown",
   "metadata": {},
   "source": [
    "## Load data into H2OFrame"
   ]
  },
  {
   "cell_type": "code",
   "execution_count": 4,
   "metadata": {
    "collapsed": false
   },
   "outputs": [],
   "source": [
    "# This is just helper function returning the path to public data file Reviews.csv ~ 300MB size\n",
    "def _locate(example_name): \n",
    "    return \"https://h2ostore.blob.core.windows.net/examples/\" + example_name \n",
    "\n",
    "AMAZON_DATASET = 'Reviews.csv'\n",
    "\n",
    "# Add files to Spark Cluster\n",
    "\n",
    "sc.addFile(_locate(AMAZON_DATASET))"
   ]
  },
  {
   "cell_type": "code",
   "execution_count": 5,
   "metadata": {
    "collapsed": false
   },
   "outputs": [
    {
     "name": "stdout",
     "output_type": "stream",
     "text": [
      "Parse progress: [#########################################################] 100%"
     ]
    }
   ],
   "source": [
    "# And import them into H2O\n",
    "from pyspark import SparkFiles\n",
    "\n",
    "# Since we have already loaded files into spark, we have to use h2o.upload_file instead of \n",
    "# h2o.import_file since h2o.import_file expects cluster-relative path (ie. the file on this\n",
    "# path can be accessed from all the machines on the cluster) but SparkFiles.get(..) already\n",
    "# give us relative path to the file on a current node which h2o.upload_file can handle ( it\n",
    "# uploads file located on current node and distributes it to the H2O cluster)\n",
    "\n",
    "reviews_hf = h2o.upload_file(SparkFiles.get(AMAZON_DATASET))\n"
   ]
  },
  {
   "cell_type": "code",
   "execution_count": 6,
   "metadata": {
    "collapsed": false
   },
   "outputs": [
    {
     "name": "stdout",
     "output_type": "stream",
     "text": [
      "  Id  ProductId    UserId          ProfileName                        HelpfulnessNumerator    HelpfulnessDenominator    Score         Time  Summary                                        Text\n",
      "----  -----------  --------------  -------------------------------  ----------------------  ------------------------  -------  -----------  ---------------------------------------------  -----------------------------------------------------------------------------------------------------------------------------------------------------------------------------------------------------------------------------------------------------------------------------------------------------------------------------------------------------------------------------------------------------------------------------------------------------------------------------------------------------------------------------\n",
      "   1  B001E4KFG0   A3SGXH7AUHU8GW  delmartian                                            1                         1        5  1.30386e+09  Good Quality Dog Food                          I have bought several of the Vitality canned dog food products and have found them all to be of good quality. The product looks more like a stew than a processed meat and it smells better. My Labrador is finicky and she appreciates this product better than  most.\n",
      "   2  B00813GRG4   A1D87F6ZCVE5NK  dll pa                                                0                         0        1  1.34698e+09  Not as Advertised                              Product arrived labeled as Jumbo Salted Peanuts...the peanuts were actually small sized unsalted. Not sure if this was an error or if the vendor intended to represent the product as \"\"Jumbo\"\n",
      "   3  B000LQOCH0   ABXLMWJIXXAIN   Natalia Corres \"\"Natalia Corres                       1                         1        4  1.21902e+09  \"\"Delight\"\" says it a                          This is a confection that has been around a few centuries.  It is a light, pillowy citrus gelatin with nuts - in this case Filberts. And it is cut into tiny squares and then liberally coated with powdered sugar.  And it is a tiny mouthful of heaven.  Not too chewy, and very flavorful.  I highly recommend this yummy treat.  If you are familiar with the story of C.S. Lewis' \"\"The Lion, The Witch, and The Wardrobe\"\" - this is the treat that seduces Edmund into selling out his Brother and Sisters to the Witc\n",
      "   4  B000UA0QIQ   A395BORC6FGVXV  Karl                                                  3                         3        2  1.30792e+09  Cough Medicine                                 If you are looking for the secret ingredient in Robitussin I believe I have found it.  I got this in addition to the Root Beer Extract I ordered (which was good) and made some cherry soda.  The flavor is very medicinal.\n",
      "   5  B006K2ZZ7K   A1UQRSCLF8GW1T  Michael D. Bigham \"\"M. Wassir                         0                         0        5  1.35078e+09  Great taffy                                    Great taffy at a great price.  There was a wide assortment of yummy taffy.  Delivery was very quick.  If your a taffy lover, this is a deal.\n",
      "   6  B006K2ZZ7K   ADT0SRK1MGOEU   Twoapennything                                        0                         0        4  1.34205e+09  Nice Taffy                                     I got a wild hair for taffy and ordered this five pound bag. The taffy was all very enjoyable with many flavors: watermelon, root beer, melon, peppermint, grape, etc. My only complaint is there was a bit too much red/black licorice-flavored pieces (just not my particular favorites). Between me, my kids, and my husband, this lasted only two weeks! I would recommend this brand of taffy -- it was a delightful treat.\n",
      "   7  B006K2ZZ7K   A1SP2KVKFXXRU1  David C. Sullivan                                     0                         0        5  1.34015e+09  Great!  Just as good as the expensive brands!  This saltwater taffy had great flavors and was very soft and chewy.  Each candy was individually wrapped well.  None of the candies were stuck together, which did happen in the expensive version, Fralinger's.  Would highly recommend this candy!  I served it at a beach-themed party and everyone loved it!\n",
      "   8  B006K2ZZ7K   A3JRGQVEQN31IQ  Pamela G. Williams                                    0                         0        5  1.336e+09    Wonderful, tasty taffy                         This taffy is so good.  It is very soft and chewy.  The flavors are amazing.  I would definitely recommend you buying it.  Very satisfying!!\n",
      "   9  B000E7L2R4   A1MZYO9TZK0BBI  R. James                                              1                         1        5  1.32201e+09  Yay Barley                                     Right now I'm mostly just sprouting this so my cats can eat the grass. They love it. I rotate it around with Wheatgrass and Rye too\n",
      "  10  B00171APVA   A21BT40VZCCYT4  Carol A. Reed                                         0                         0        5  1.35121e+09  Healthy Dog Food                               This is a very healthy dog food. Good for their digestion. Also good for small puppies. My dog eats her required amount at every feeding.\n",
      "\n",
      "[568454 rows x 10 columns]"
     ]
    }
   ],
   "source": [
    "reviews_hf.show()"
   ]
  },
  {
   "cell_type": "markdown",
   "metadata": {
    "collapsed": true
   },
   "source": [
    "## Data munge data with H2O API"
   ]
  },
  {
   "cell_type": "markdown",
   "metadata": {},
   "source": [
    "### Remove columns"
   ]
  },
  {
   "cell_type": "code",
   "execution_count": 7,
   "metadata": {
    "collapsed": false
   },
   "outputs": [],
   "source": [
    "selected_columns = [ \"Score\", \"Time\", \"Summary\", \"HelpfulnessNumerator\", \"HelpfulnessDenominator\" ]\n",
    "reviews_hf = reviews_hf[selected_columns]"
   ]
  },
  {
   "cell_type": "code",
   "execution_count": 8,
   "metadata": {
    "collapsed": false
   },
   "outputs": [
    {
     "name": "stdout",
     "output_type": "stream",
     "text": [
      "  Score         Time  Summary                                          HelpfulnessNumerator    HelpfulnessDenominator\n",
      "-------  -----------  ---------------------------------------------  ----------------------  ------------------------\n",
      "      5  1.30386e+09  Good Quality Dog Food                                               1                         1\n",
      "      1  1.34698e+09  Not as Advertised                                                   0                         0\n",
      "      4  1.21902e+09  \"\"Delight\"\" says it a                                               1                         1\n",
      "      2  1.30792e+09  Cough Medicine                                                      3                         3\n",
      "      5  1.35078e+09  Great taffy                                                         0                         0\n",
      "      4  1.34205e+09  Nice Taffy                                                          0                         0\n",
      "      5  1.34015e+09  Great!  Just as good as the expensive brands!                       0                         0\n",
      "      5  1.336e+09    Wonderful, tasty taffy                                              0                         0\n",
      "      5  1.32201e+09  Yay Barley                                                          1                         1\n",
      "      5  1.35121e+09  Healthy Dog Food                                                    0                         0\n",
      "\n",
      "[568454 rows x 5 columns]"
     ]
    }
   ],
   "source": [
    "reviews_hf.show()"
   ]
  },
  {
   "cell_type": "markdown",
   "metadata": {},
   "source": [
    "### Refine `Time` Column into Year/Month/Day/DayOfWeek/Hour columns\n",
    "In this case the `Time` column contains number of seconds from epoch. We translate it into several new columns to help algorithms to pick right pattern."
   ]
  },
  {
   "cell_type": "code",
   "execution_count": 9,
   "metadata": {
    "collapsed": true
   },
   "outputs": [],
   "source": [
    "# Set time zone to UTC for date manipulation\n",
    "h2o.set_timezone(\"Etc/UTC\")"
   ]
  },
  {
   "cell_type": "code",
   "execution_count": 10,
   "metadata": {
    "collapsed": false
   },
   "outputs": [
    {
     "name": "stdout",
     "output_type": "stream",
     "text": [
      "  Score         Time  Summary                                          HelpfulnessNumerator    HelpfulnessDenominator    Day    Month    Year  DayOfWeek      Hour\n",
      "-------  -----------  ---------------------------------------------  ----------------------  ------------------------  -----  -------  ------  -----------  ------\n",
      "      5  1.30386e+12  Good Quality Dog Food                                               1                         1     27        4    2011  Wed               0\n",
      "      1  1.34698e+12  Not as Advertised                                                   0                         0      7        9    2012  Fri               0\n",
      "      4  1.21902e+12  \"\"Delight\"\" says it a                                               1                         1     18        8    2008  Mon               0\n",
      "      2  1.30792e+12  Cough Medicine                                                      3                         3     13        6    2011  Mon               0\n",
      "      5  1.35078e+12  Great taffy                                                         0                         0     21       10    2012  Sun               0\n",
      "      4  1.34205e+12  Nice Taffy                                                          0                         0     12        7    2012  Thu               0\n",
      "      5  1.34015e+12  Great!  Just as good as the expensive brands!                       0                         0     20        6    2012  Wed               0\n",
      "      5  1.336e+12    Wonderful, tasty taffy                                              0                         0      3        5    2012  Thu               0\n",
      "      5  1.32201e+12  Yay Barley                                                          1                         1     23       11    2011  Wed               0\n",
      "      5  1.35121e+12  Healthy Dog Food                                                    0                         0     26       10    2012  Fri               0\n",
      "\n",
      "[568454 rows x 10 columns]"
     ]
    }
   ],
   "source": [
    "def refine_time_column(data_hf, column_name):\n",
    "    data_hf[column_name] = data_hf[column_name] * 1000 # Transformation to microsecond since required by H2O API\n",
    "    data_hf[\"Day\"] = data_hf[column_name].day()\n",
    "    data_hf[\"Month\"] = data_hf[column_name].month()\n",
    "    data_hf[\"Year\"] = data_hf[column_name].year()\n",
    "    data_hf[\"DayOfWeek\"] = data_hf[column_name].dayOfWeek()\n",
    "    data_hf[\"Hour\"] = data_hf[column_name].hour()\n",
    "    \n",
    "refine_time_column(reviews_hf, \"Time\")\n",
    "reviews_hf.show()"
   ]
  },
  {
   "cell_type": "markdown",
   "metadata": {},
   "source": [
    "## Data Munge with Spark API\n",
    "We can combine H2O data munging capabilities with Spark API\n",
    "\n",
    "### Publish H2O Frame as Spark DataFrame\n",
    "\n",
    "The created H2OContext exposes the method `as_spark_frame` which publishes an H2OFrame as Spark DataFrame."
   ]
  },
  {
   "cell_type": "code",
   "execution_count": 11,
   "metadata": {
    "collapsed": false
   },
   "outputs": [
    {
     "name": "stdout",
     "output_type": "stream",
     "text": [
      "+-----+-------------+--------------------+--------------------+----------------------+---+-----+----+---------+----+\n",
      "|Score|         Time|             Summary|HelpfulnessNumerator|HelpfulnessDenominator|Day|Month|Year|DayOfWeek|Hour|\n",
      "+-----+-------------+--------------------+--------------------+----------------------+---+-----+----+---------+----+\n",
      "|    5|1303862400000|Good Quality Dog ...|                   1|                     1| 27|    4|2011|      Wed|   0|\n",
      "|    1|1346976000000|   Not as Advertised|                   0|                     0|  7|    9|2012|      Fri|   0|\n",
      "|    4|1219017600000|\"\"Delight\"\" says ...|                   1|                     1| 18|    8|2008|      Mon|   0|\n",
      "|    2|1307923200000|      Cough Medicine|                   3|                     3| 13|    6|2011|      Mon|   0|\n",
      "|    5|1350777600000|         Great taffy|                   0|                     0| 21|   10|2012|      Sun|   0|\n",
      "|    4|1342051200000|          Nice Taffy|                   0|                     0| 12|    7|2012|      Thu|   0|\n",
      "|    5|1340150400000|Great!  Just as g...|                   0|                     0| 20|    6|2012|      Wed|   0|\n",
      "|    5|1336003200000|Wonderful, tasty ...|                   0|                     0|  3|    5|2012|      Thu|   0|\n",
      "|    5|1322006400000|          Yay Barley|                   1|                     1| 23|   11|2011|      Wed|   0|\n",
      "|    5|1351209600000|    Healthy Dog Food|                   0|                     0| 26|   10|2012|      Fri|   0|\n",
      "|    5|1107820800000|The Best Hot Sauc...|                   1|                     1|  8|    2|2005|      Tue|   0|\n",
      "|    5|1282867200000|My cats LOVE this...|                   4|                     4| 27|    8|2010|      Fri|   0|\n",
      "|    1|1339545600000|My Cats Are Not F...|                   1|                     1| 13|    6|2012|      Wed|   0|\n",
      "|    4|1288915200000|   fresh and greasy!|                   2|                     2|  5|   11|2010|      Fri|   0|\n",
      "|    5|1268352000000|Strawberry Twizzl...|                   4|                     5| 12|    3|2010|      Fri|   0|\n",
      "|    5|1262044800000|Lots of twizzlers...|                   4|                     5| 29|   12|2009|      Tue|   0|\n",
      "|    2|1348099200000|          poor taste|                   0|                     0| 20|    9|2012|      Thu|   0|\n",
      "|    5|1345075200000|            Love it!|                   0|                     0| 16|    8|2012|      Thu|   0|\n",
      "|    5|1324598400000|  GREAT SWEET CANDY!|                   0|                     0| 23|   12|2011|      Fri|   0|\n",
      "|    5|1318032000000|Home delivered tw...|                   0|                     0|  8|   10|2011|      Sat|   0|\n",
      "+-----+-------------+--------------------+--------------------+----------------------+---+-----+----+---------+----+\n",
      "only showing top 20 rows"
     ]
    }
   ],
   "source": [
    "reviews_df = h2o_context.as_spark_frame(reviews_hf)\n",
    "reviews_df.show()"
   ]
  },
  {
   "cell_type": "code",
   "execution_count": 12,
   "metadata": {
    "collapsed": false
   },
   "outputs": [
    {
     "name": "stdout",
     "output_type": "stream",
     "text": [
      "DataFrame[]"
     ]
    }
   ],
   "source": [
    "# HERE is where we save the dataframe to a Hive Table\n",
    "#reviews_df.saveAsTable(\"reviewstable\") #Spark 2.0\n",
    "\n",
    "sqlContext.registerDataFrameAsTable(reviews_df, \"reviewstabletemp\")\n",
    "sqlContext.sql(\"create table reviewstable as select * from reviewstabletemp\");\n"
   ]
  },
  {
   "cell_type": "code",
   "execution_count": 13,
   "metadata": {
    "collapsed": false
   },
   "outputs": [],
   "source": [
    "%%sql \n",
    "show tables"
   ]
  },
  {
   "cell_type": "markdown",
   "metadata": {},
   "source": [
    "### Spark DataFrame API\n",
    "\n",
    "From this point we can run any Spark data munging operations including SQL.\n",
    "We can still publish the result as H2OFrame."
   ]
  },
  {
   "cell_type": "code",
   "execution_count": 14,
   "metadata": {
    "collapsed": false
   },
   "outputs": [
    {
     "name": "stdout",
     "output_type": "stream",
     "text": [
      "+----+------------------+--------+\n",
      "|Year|        avg(Score)|count(1)|\n",
      "+----+------------------+--------+\n",
      "|1999|               5.0|       6|\n",
      "|2000|           4.53125|      32|\n",
      "|2001|3.5384615384615383|      13|\n",
      "|2002| 4.712328767123288|      73|\n",
      "|2003| 4.325757575757576|     132|\n",
      "|2004| 4.392156862745098|     561|\n",
      "|2005|4.4456928838951315|    1335|\n",
      "|2006| 4.313446259931045|    6671|\n",
      "|2007| 4.391345291479821|   22300|\n",
      "|2008| 4.345344378421099|   34163|\n",
      "|2009| 4.300365108628855|   55326|\n",
      "|2010| 4.198837967491034|   85884|\n",
      "|2011| 4.143803697511926|  163299|\n",
      "|2012| 4.117885421752852|  198659|\n",
      "+----+------------------+--------+"
     ]
    }
   ],
   "source": [
    "avgScorePerYear = reviews_df.groupBy(\"Year\").agg({\"Score\" : \"avg\", \"*\": \"count\"}).orderBy(\"Year\")\n",
    "avgScorePerYear.show()"
   ]
  },
  {
   "cell_type": "code",
   "execution_count": 15,
   "metadata": {
    "collapsed": false
   },
   "outputs": [
    {
     "name": "stdout",
     "output_type": "stream",
     "text": [
      "DataFrame[]"
     ]
    }
   ],
   "source": [
    "# Another df save to HIVE\n",
    "sqlContext.registerDataFrameAsTable(avgScorePerYear, \"avgscoretabletemp\")\n",
    "sqlContext.sql(\"create table avgscoretable as select * from avgscoretabletemp\");"
   ]
  },
  {
   "cell_type": "markdown",
   "metadata": {},
   "source": [
    "Now we can query the hive table and output the results on a pandas dataframe (using the -o option)"
   ]
  },
  {
   "cell_type": "code",
   "execution_count": 16,
   "metadata": {
    "collapsed": true
   },
   "outputs": [],
   "source": [
    "%%sql -q -n 500 -o query1\n",
    "select * from avgscoretabletemp"
   ]
  },
  {
   "cell_type": "markdown",
   "metadata": {},
   "source": [
    "### visualize the results directly in Python Notebook..."
   ]
  },
  {
   "cell_type": "code",
   "execution_count": 17,
   "metadata": {
    "collapsed": false
   },
   "outputs": [
    {
     "data": {
      "text/plain": [
       "<matplotlib.axes._subplots.AxesSubplot at 0x7f0373e12090>"
      ]
     },
     "execution_count": 17,
     "metadata": {},
     "output_type": "execute_result"
    },
    {
     "data": {
      "image/png": "[encoded data removed]",
      "text/plain": [
       "<matplotlib.figure.Figure at 0x7f0373feea50>"
      ]
     },
     "metadata": {},
     "output_type": "display_data"
    }
   ],
   "source": [
    "%%local\n",
    "%matplotlib inline\n",
    "\n",
    "query1.plot.bar(x=\"Year\", y = \"count(1)\")"
   ]
  },
  {
   "cell_type": "markdown",
   "metadata": {},
   "source": [
    "### Prepare data for modeling\n",
    "The idea is to model sentiment based on `Score` of review, `Summary` and time when the review was performed. In this case we skip all neutral reviews, but focus on positive/negative scores.\n",
    "\n",
    "Steps:\n",
    "\n",
    "  1. Select columns Score, Month, Day, DayOfWeek, Summary\n",
    "  2. Define UDF to transform score (0..5) to binary positive/negative\n",
    "  3. Use TF-IDF to vectorize summary column\n",
    "\n",
    "#### Transform the `Score` column into binary feature\n",
    "\n",
    "The score contains value (0, 5), however we are just interested in binary value - positive/negative review. We ignore neutral reviews."
   ]
  },
  {
   "cell_type": "code",
   "execution_count": 18,
   "metadata": {
    "collapsed": true
   },
   "outputs": [],
   "source": [
    "from pyspark.sql.types import *\n",
    "from pyspark.sql.functions import UserDefinedFunction\n",
    "\n",
    "def to_binary_score(col):\n",
    "    if col < 3:\n",
    "        return \"negative\"\n",
    "    else:\n",
    "        return \"positive\"\n",
    "udf_to_binary_score = UserDefinedFunction(to_binary_score, StringType())"
   ]
  },
  {
   "cell_type": "code",
   "execution_count": 19,
   "metadata": {
    "collapsed": false
   },
   "outputs": [
    {
     "name": "stdout",
     "output_type": "stream",
     "text": [
      "+--------+-------------+--------------------+--------------------+----------------------+---+-----+----+---------+----+\n",
      "|   Score|         Time|             Summary|HelpfulnessNumerator|HelpfulnessDenominator|Day|Month|Year|DayOfWeek|Hour|\n",
      "+--------+-------------+--------------------+--------------------+----------------------+---+-----+----+---------+----+\n",
      "|positive|1303862400000|Good Quality Dog ...|                   1|                     1| 27|    4|2011|      Wed|   0|\n",
      "|negative|1346976000000|   Not as Advertised|                   0|                     0|  7|    9|2012|      Fri|   0|\n",
      "|positive|1219017600000|\"\"Delight\"\" says ...|                   1|                     1| 18|    8|2008|      Mon|   0|\n",
      "|negative|1307923200000|      Cough Medicine|                   3|                     3| 13|    6|2011|      Mon|   0|\n",
      "|positive|1350777600000|         Great taffy|                   0|                     0| 21|   10|2012|      Sun|   0|\n",
      "|positive|1342051200000|          Nice Taffy|                   0|                     0| 12|    7|2012|      Thu|   0|\n",
      "|positive|1340150400000|Great!  Just as g...|                   0|                     0| 20|    6|2012|      Wed|   0|\n",
      "|positive|1336003200000|Wonderful, tasty ...|                   0|                     0|  3|    5|2012|      Thu|   0|\n",
      "|positive|1322006400000|          Yay Barley|                   1|                     1| 23|   11|2011|      Wed|   0|\n",
      "|positive|1351209600000|    Healthy Dog Food|                   0|                     0| 26|   10|2012|      Fri|   0|\n",
      "|positive|1107820800000|The Best Hot Sauc...|                   1|                     1|  8|    2|2005|      Tue|   0|\n",
      "|positive|1282867200000|My cats LOVE this...|                   4|                     4| 27|    8|2010|      Fri|   0|\n",
      "|negative|1339545600000|My Cats Are Not F...|                   1|                     1| 13|    6|2012|      Wed|   0|\n",
      "|positive|1288915200000|   fresh and greasy!|                   2|                     2|  5|   11|2010|      Fri|   0|\n",
      "|positive|1268352000000|Strawberry Twizzl...|                   4|                     5| 12|    3|2010|      Fri|   0|\n",
      "|positive|1262044800000|Lots of twizzlers...|                   4|                     5| 29|   12|2009|      Tue|   0|\n",
      "|negative|1348099200000|          poor taste|                   0|                     0| 20|    9|2012|      Thu|   0|\n",
      "|positive|1345075200000|            Love it!|                   0|                     0| 16|    8|2012|      Thu|   0|\n",
      "|positive|1324598400000|  GREAT SWEET CANDY!|                   0|                     0| 23|   12|2011|      Fri|   0|\n",
      "|positive|1318032000000|Home delivered tw...|                   0|                     0|  8|   10|2011|      Sat|   0|\n",
      "+--------+-------------+--------------------+--------------------+----------------------+---+-----+----+---------+----+\n",
      "only showing top 20 rows"
     ]
    }
   ],
   "source": [
    "reviews_df = reviews_df.withColumn(\"Score\", udf_to_binary_score(\"Score\"))\n",
    "reviews_df.show()"
   ]
  },
  {
   "cell_type": "markdown",
   "metadata": {},
   "source": [
    "### Transforming textual data into numeric representation\n",
    "\n",
    "#### Tokenization"
   ]
  },
  {
   "cell_type": "code",
   "execution_count": 20,
   "metadata": {
    "collapsed": true
   },
   "outputs": [],
   "source": [
    "from pyspark.ml.feature import *\n",
    "\n",
    "tokenizer = Tokenizer(inputCol=\"Summary\", outputCol=\"tokens\")"
   ]
  },
  {
   "cell_type": "markdown",
   "metadata": {},
   "source": [
    "#### Transform tokens into numeric representation\n",
    "\n",
    "We use Spark `HashingTF` to represent tokens as numeric features."
   ]
  },
  {
   "cell_type": "code",
   "execution_count": 21,
   "metadata": {
    "collapsed": false
   },
   "outputs": [
    {
     "name": "stdout",
     "output_type": "stream",
     "text": [
      "HashingTF_41169e4552b95a99859e"
     ]
    }
   ],
   "source": [
    "hashingTF = HashingTF()\n",
    "hashingTF.setInputCol(\"tokens\").setOutputCol(\"tf-features\").setNumFeatures(1024)"
   ]
  },
  {
   "cell_type": "markdown",
   "metadata": {},
   "source": [
    "#### Build IDF (Inverse Document Frequency) model\n",
    "The model scales a token frequency based on its occurence in a document and full set of documents."
   ]
  },
  {
   "cell_type": "code",
   "execution_count": 22,
   "metadata": {
    "collapsed": false
   },
   "outputs": [
    {
     "name": "stdout",
     "output_type": "stream",
     "text": [
      "IDF_43c4bb1128e2998a22dc"
     ]
    }
   ],
   "source": [
    "idf = IDF()\n",
    "idf.setInputCol(\"tf-features\")\n",
    "idf.setOutputCol(\"idf-features\")"
   ]
  },
  {
   "cell_type": "markdown",
   "metadata": {},
   "source": [
    "#### Compose individual transformation into a Spark pipeline"
   ]
  },
  {
   "cell_type": "code",
   "execution_count": 23,
   "metadata": {
    "collapsed": true
   },
   "outputs": [],
   "source": [
    "from pyspark.ml import Pipeline\n",
    "\n",
    "pipeline = Pipeline(stages = [tokenizer, hashingTF, idf])\n",
    "pipelineModel = pipeline.fit(reviews_df)"
   ]
  },
  {
   "cell_type": "markdown",
   "metadata": {},
   "source": [
    "#### And transform input data"
   ]
  },
  {
   "cell_type": "code",
   "execution_count": 24,
   "metadata": {
    "collapsed": false
   },
   "outputs": [],
   "source": [
    "final_reviews_df = pipelineModel.transform(reviews_df)\n",
    "#final_reviews_df.show()"
   ]
  },
  {
   "cell_type": "markdown",
   "metadata": {},
   "source": [
    "## Back to H2O Frame (materialization)"
   ]
  },
  {
   "cell_type": "code",
   "execution_count": 25,
   "metadata": {
    "collapsed": false
   },
   "outputs": [],
   "source": [
    "final_columns = [\"Score\", \"HelpfulnessNumerator\", \"HelpfulnessDenominator\", \"Day\", \"Month\", \"Year\", \"DayOfWeek\", \"idf-features\"]\n",
    "final_reviews_hf = h2o_context.as_h2o_frame(final_reviews_df.select(final_columns), \"final_reviews_hf\")\n",
    "#final_reviews_hf.show()"
   ]
  },
  {
   "cell_type": "markdown",
   "metadata": {},
   "source": [
    "### Score and DayOfWeek columns needs to be a factor"
   ]
  },
  {
   "cell_type": "code",
   "execution_count": 26,
   "metadata": {
    "collapsed": true
   },
   "outputs": [],
   "source": [
    "final_reviews_hf[\"Score\"] = final_reviews_hf[\"Score\"].asfactor()\n",
    "final_reviews_hf[\"DayOfWeek\"] = final_reviews_hf[\"DayOfWeek\"].asfactor()"
   ]
  },
  {
   "cell_type": "markdown",
   "metadata": {},
   "source": [
    "### Prepare training and validation dataset for modeling"
   ]
  },
  {
   "cell_type": "code",
   "execution_count": 27,
   "metadata": {
    "collapsed": true
   },
   "outputs": [],
   "source": [
    "splits = final_reviews_hf.split_frame(ratios=[0.75], destination_frames=[\"train\", \"valid\"], seed=42)"
   ]
  },
  {
   "cell_type": "code",
   "execution_count": 28,
   "metadata": {
    "collapsed": false
   },
   "outputs": [],
   "source": [
    "train_hf = splits[0]\n",
    "valid_hf = splits[1]\n",
    "#train_hf.show()"
   ]
  },
  {
   "cell_type": "markdown",
   "metadata": {},
   "source": [
    "### Memory Cleanup"
   ]
  },
  {
   "cell_type": "code",
   "execution_count": 29,
   "metadata": {
    "collapsed": true
   },
   "outputs": [],
   "source": [
    "final_reviews_hf = None\n",
    "reviews_hf = None"
   ]
  },
  {
   "cell_type": "markdown",
   "metadata": {},
   "source": [
    "#### List available data"
   ]
  },
  {
   "cell_type": "code",
   "execution_count": 30,
   "metadata": {
    "collapsed": false
   },
   "outputs": [
    {
     "name": "stdout",
     "output_type": "stream",
     "text": [
      "                                                 key\n",
      "0  Key_Frame__upload_b053d54ebe6df34c3b3fb7e59128...\n",
      "1                                   final_reviews_hf\n",
      "2                             py_8_sid_82d0_splitter\n",
      "3                                              train\n",
      "4                                              valid"
     ]
    }
   ],
   "source": [
    "h2o.ls()"
   ]
  },
  {
   "cell_type": "markdown",
   "metadata": {},
   "source": [
    "## Model training\n",
    "\n",
    "### Random grid search with explicit stopping criterions\n"
   ]
  },
  {
   "cell_type": "markdown",
   "metadata": {},
   "source": [
    "#### Define a hyper space to explore\n",
    "\n",
    "> Please feel free to play with parameters, see documentation in [H2O Python Documentation](http://docs.h2o.ai/h2o/latest-stable/h2o-py/docs/modeling.html#module-h2o.grid.grid_search)."
   ]
  },
  {
   "cell_type": "code",
   "execution_count": 31,
   "metadata": {
    "collapsed": true
   },
   "outputs": [],
   "source": [
    "from h2o.grid.grid_search import H2OGridSearch\n",
    "from h2o.estimators.deeplearning import H2ODeepLearningEstimator\n",
    "\n",
    "hyper_params = {'activation' : [\"Rectifier\", \"TanhWithDropout\"], \n",
    "                'hidden' : [ [2,2], [10,10]],\n",
    "                'epochs' : [ 1, 2, 5]\n",
    "               }"
   ]
  },
  {
   "cell_type": "markdown",
   "metadata": {},
   "source": [
    "#### Define stoping criterions\n",
    "\n",
    "> Modify based on your demands and requirements (time v. accuracy bound search)"
   ]
  },
  {
   "cell_type": "code",
   "execution_count": 32,
   "metadata": {
    "collapsed": true
   },
   "outputs": [],
   "source": [
    "search_criteria = {'strategy' : 'RandomDiscrete',\n",
    "                   'max_runtime_secs': 120,\n",
    "                   'stopping_rounds' : 3,\n",
    "                   'stopping_metric' : 'AUC', # AUTO, mse, logloss\n",
    "                   'stopping_tolerance': 1e-2\n",
    "                   }"
   ]
  },
  {
   "cell_type": "markdown",
   "metadata": {},
   "source": [
    "#### Launch Random Hyper Search\n",
    "\n",
    "> For more details look into [H2O Deep Learning documentation](http://docs.h2o.ai/h2o/latest-stable/h2o-py/docs/modeling.html#h2odeeplearningestimator)"
   ]
  },
  {
   "cell_type": "code",
   "execution_count": 33,
   "metadata": {
    "collapsed": false
   },
   "outputs": [
    {
     "name": "stdout",
     "output_type": "stream",
     "text": [
      "deeplearning Grid Build progress: [#######################################] 100%"
     ]
    }
   ],
   "source": [
    "models_grid = H2OGridSearch(H2ODeepLearningEstimator, hyper_params=hyper_params, search_criteria=search_criteria)\n",
    "models_grid.train(x = train_hf.col_names, y = \"Score\", \\\n",
    "                  training_frame = train_hf, \\\n",
    "                  validation_frame = valid_hf, \\\n",
    "                  variable_importances=True)"
   ]
  },
  {
   "cell_type": "markdown",
   "metadata": {},
   "source": [
    "### The best model is ..."
   ]
  },
  {
   "cell_type": "code",
   "execution_count": 34,
   "metadata": {
    "collapsed": false
   },
   "outputs": [
    {
     "name": "stdout",
     "output_type": "stream",
     "text": [
      "Grid Search Results for H2ODeepLearningEstimator: \n",
      "Model Id                                                      Hyperparameters: [epochs, activation, hidden]    auc\n",
      "------------------------------------------------------------  -----------------------------------------------  --------\n",
      "Grid_DeepLearning_train_model_python_1481787856361_1_model_2  [5.0, u'Rectifier', 10]                          0.833308\n",
      "Grid_DeepLearning_train_model_python_1481787856361_1_model_5  [2.0, u'Rectifier', 10]                          0.822887\n",
      "Grid_DeepLearning_train_model_python_1481787856361_1_model_1  [2.0, u'TanhWithDropout', 10]                    0.753059\n",
      "Grid_DeepLearning_train_model_python_1481787856361_1_model_4  [2.0, u'TanhWithDropout', 2]                     0.664635\n",
      "Grid_DeepLearning_train_model_python_1481787856361_1_model_3  [1.0, u'TanhWithDropout', 2]                     0.649805\n",
      "Grid_DeepLearning_train_model_python_1481787856361_1_model_0  [5.0, u'TanhWithDropout', 2]                     0.607698"
     ]
    }
   ],
   "source": [
    "models_grid.sort_by('auc', False)"
   ]
  },
  {
   "cell_type": "markdown",
   "metadata": {},
   "source": [
    "### The best model details"
   ]
  },
  {
   "cell_type": "code",
   "execution_count": 35,
   "metadata": {
    "collapsed": false
   },
   "outputs": [
    {
     "name": "stdout",
     "output_type": "stream",
     "text": [
      "\n",
      "ModelMetricsBinomial: deeplearning\n",
      "** Reported on test data. **\n",
      "\n",
      "MSE: 0.0909590376566\n",
      "RMSE: 0.301594160515\n",
      "LogLoss: 0.307704898345\n",
      "Mean Per-Class Error: 0.24139346577\n",
      "AUC: 0.836281125583\n",
      "Gini: 0.672562251167\n",
      "Confusion Matrix (Act/Pred) for max f1 @ threshold = 0.438082790835: \n",
      "          negative    positive    Error    Rate\n",
      "--------  ----------  ----------  -------  ------------------\n",
      "negative  5863        14364       0.7101   (14364.0/20227.0)\n",
      "positive  2626        119168      0.0216   (2626.0/121794.0)\n",
      "Total     8489        133532      0.1196   (16990.0/142021.0)\n",
      "Maximum Metrics: Maximum metrics at their respective thresholds\n",
      "\n",
      "metric                       threshold    value     idx\n",
      "---------------------------  -----------  --------  -----\n",
      "max f1                       0.438083     0.933458  287\n",
      "max f2                       0.0895854    0.967969  380\n",
      "max f0point5                 0.743038     0.920699  175\n",
      "max accuracy                 0.511378     0.881032  265\n",
      "max precision                0.999073     0.992958  0\n",
      "max recall                   0.00146429   1         399\n",
      "max specificity              0.999073     0.999753  0\n",
      "max absolute_mcc             0.660953     0.447544  208\n",
      "max min_per_class_accuracy   0.882448     0.757599  104\n",
      "max mean_per_class_accuracy  0.886711     0.758607  101\n",
      "Gains/Lift Table: Avg response rate: 85.76 %\n",
      "\n",
      "    group    cumulative_data_fraction    lower_threshold    lift      cumulative_lift    response_rate    cumulative_response_rate    capture_rate    cumulative_capture_rate    gain      cumulative_gain\n",
      "--  -------  --------------------------  -----------------  --------  -----------------  ---------------  --------------------------  --------------  -------------------------  --------  -----------------\n",
      "    1        0.0100056                   0.997099           1.14966   1.14966            0.985925         0.985925                    0.011503        0.011503                   14.9663   14.9663\n",
      "    2        0.0200111                   0.993976           1.14966   1.14966            0.985925         0.985925                    0.011503        0.0230061                  14.9663   14.9663\n",
      "    3        0.0300026                   0.99072            1.15211   1.15048            0.98802          0.986623                    0.0115112       0.0345173                  15.2106   15.0477\n",
      "    4        0.0400011                   0.986886           1.13898   1.1476             0.976761         0.984158                    0.0113881       0.0459054                  13.8977   14.7602\n",
      "    5        0.0500208                   0.982579           1.14969   1.14802            0.985945         0.984516                    0.0115195       0.0574248                  14.9687   14.802\n",
      "    6        0.100006                    0.97364            1.13158   1.1398             0.970418         0.97747                     0.0565627       0.113988                   13.1581   13.9803\n",
      "    7        0.150006                    0.972048           1.14309   1.1409             0.980284         0.978408                    0.0571539       0.171141                   14.3086   14.0897\n",
      "    8        0.200006                    0.970665           1.14719   1.14247            0.983805         0.979757                    0.0573591       0.228501                   14.7191   14.2471\n",
      "    9        0.300012                    0.967              1.14054   1.14183            0.978103         0.979206                    0.114061        0.342562                   14.0542   14.1828\n",
      "    10       0.400004                    0.958862           1.11755   1.13576            0.958383         0.974001                    0.111746        0.454308                   11.7547   13.5758\n",
      "    11       0.500004                    0.944192           1.09292   1.12719            0.937262         0.966653                    0.109291        0.563599                   9.29187   12.719\n",
      "    12       0.600003                    0.918368           1.07116   1.11785            0.918603         0.958645                    0.107115        0.670714                   7.11605   11.7852\n",
      "    13       0.700002                    0.871757           1.02879   1.10513            0.88227          0.947734                    0.102879        0.773593                   2.87936   10.513\n",
      "    14       0.800001                    0.783848           0.964422  1.08754            0.827067         0.932651                    0.0964415       0.870035                   -3.55779  8.75414\n",
      "    15       0.900001                    0.594014           0.835022  1.05948            0.716096         0.908589                    0.0835017       0.953536                   -16.4978  5.94839\n",
      "    16       1                           1.08199e-05        0.46464   1                  0.398465         0.857577                    0.0464637       1                          -53.536   0"
     ]
    }
   ],
   "source": [
    "best_model = h2o.get_model(models_grid.sort_by('auc', False)[0][0])\n",
    "best_model.model_performance(valid_hf)"
   ]
  },
  {
   "cell_type": "markdown",
   "metadata": {},
   "source": [
    "### What are most important features?"
   ]
  },
  {
   "cell_type": "code",
   "execution_count": 36,
   "metadata": {
    "collapsed": false
   },
   "outputs": [
    {
     "name": "stdout",
     "output_type": "stream",
     "text": [
      "                    variable  relative_importance  scaled_importance  \\\n",
      "0     HelpfulnessDenominator             1.000000           1.000000   \n",
      "1            idf-features116             0.946067           0.946067   \n",
      "2            idf-features139             0.782791           0.782791   \n",
      "3            idf-features792             0.593618           0.593618   \n",
      "4            idf-features601             0.564647           0.564647   \n",
      "5             idf-features78             0.556320           0.556320   \n",
      "6            idf-features112             0.497255           0.497255   \n",
      "7            idf-features858             0.483316           0.483316   \n",
      "8       HelpfulnessNumerator             0.462716           0.462716   \n",
      "9            idf-features745             0.453166           0.453166   \n",
      "10           idf-features243             0.443306           0.443306   \n",
      "11           idf-features942             0.384215           0.384215   \n",
      "12           idf-features714             0.381215           0.381215   \n",
      "13           idf-features842             0.342388           0.342388   \n",
      "14           idf-features733             0.342036           0.342036   \n",
      "15           idf-features504             0.329093           0.329093   \n",
      "16           idf-features436             0.323689           0.323689   \n",
      "17           idf-features471             0.307232           0.307232   \n",
      "18           idf-features569             0.302051           0.302051   \n",
      "19           idf-features575             0.295417           0.295417   \n",
      "20                      Year             0.293296           0.293296   \n",
      "21           idf-features972             0.282351           0.282351   \n",
      "22           idf-features335             0.279022           0.279022   \n",
      "23           idf-features620             0.274882           0.274882   \n",
      "24            idf-features47             0.268240           0.268240   \n",
      "25           idf-features338             0.262956           0.262956   \n",
      "26            idf-features42             0.260161           0.260161   \n",
      "27            idf-features66             0.254107           0.254107   \n",
      "28          idf-features1019             0.253257           0.253257   \n",
      "29           idf-features638             0.252734           0.252734   \n",
      "...                      ...                  ...                ...   \n",
      "1007         idf-features440             0.046183           0.046183   \n",
      "1008         idf-features800             0.046135           0.046135   \n",
      "1009         idf-features512             0.046032           0.046032   \n",
      "1010                     Day             0.045542           0.045542   \n",
      "1011         idf-features870             0.045466           0.045466   \n",
      "1012         idf-features663             0.045391           0.045391   \n",
      "1013         idf-features570             0.045207           0.045207   \n",
      "1014         idf-features423             0.044765           0.044765   \n",
      "1015         idf-features278             0.044592           0.044592   \n",
      "1016         idf-features368             0.044503           0.044503   \n",
      "1017         idf-features334             0.044104           0.044104   \n",
      "1018         idf-features694             0.044053           0.044053   \n",
      "1019         idf-features896             0.044000           0.044000   \n",
      "1020         idf-features259             0.043589           0.043589   \n",
      "1021         idf-features529             0.043048           0.043048   \n",
      "1022         idf-features844             0.042746           0.042746   \n",
      "1023         idf-features803             0.042211           0.042211   \n",
      "1024         idf-features970             0.041869           0.041869   \n",
      "1025          idf-features46             0.041414           0.041414   \n",
      "1026         idf-features712             0.041142           0.041142   \n",
      "1027         idf-features812             0.040765           0.040765   \n",
      "1028         idf-features706             0.040207           0.040207   \n",
      "1029         idf-features538             0.040094           0.040094   \n",
      "1030         idf-features172             0.038517           0.038517   \n",
      "1031         idf-features150             0.037335           0.037335   \n",
      "1032         idf-features163             0.037292           0.037292   \n",
      "1033         idf-features461             0.035351           0.035351   \n",
      "1034         idf-features721             0.033864           0.033864   \n",
      "1035          idf-features16             0.030582           0.030582   \n",
      "1036   DayOfWeek.missing(NA)             0.000000           0.000000   \n",
      "\n",
      "      percentage  \n",
      "0       0.009002  \n",
      "1       0.008517  \n",
      "2       0.007047  \n",
      "3       0.005344  \n",
      "4       0.005083  \n",
      "5       0.005008  \n",
      "6       0.004476  \n",
      "7       0.004351  \n",
      "8       0.004165  \n",
      "9       0.004079  \n",
      "10      0.003991  \n",
      "11      0.003459  \n",
      "12      0.003432  \n",
      "13      0.003082  \n",
      "14      0.003079  \n",
      "15      0.002963  \n",
      "16      0.002914  \n",
      "17      0.002766  \n",
      "18      0.002719  \n",
      "19      0.002659  \n",
      "20      0.002640  \n",
      "21      0.002542  \n",
      "22      0.002512  \n",
      "23      0.002475  \n",
      "24      0.002415  \n",
      "25      0.002367  \n",
      "26      0.002342  \n",
      "27      0.002288  \n",
      "28      0.002280  \n",
      "29      0.002275  \n",
      "...          ...  \n",
      "1007    0.000416  \n",
      "1008    0.000415  \n",
      "1009    0.000414  \n",
      "1010    0.000410  \n",
      "1011    0.000409  \n",
      "1012    0.000409  \n",
      "1013    0.000407  \n",
      "1014    0.000403  \n",
      "1015    0.000401  \n",
      "1016    0.000401  \n",
      "1017    0.000397  \n",
      "1018    0.000397  \n",
      "1019    0.000396  \n",
      "1020    0.000392  \n",
      "1021    0.000388  \n",
      "1022    0.000385  \n",
      "1023    0.000380  \n",
      "1024    0.000377  \n",
      "1025    0.000373  \n",
      "1026    0.000370  \n",
      "1027    0.000367  \n",
      "1028    0.000362  \n",
      "1029    0.000361  \n",
      "1030    0.000347  \n",
      "1031    0.000336  \n",
      "1032    0.000336  \n",
      "1033    0.000318  \n",
      "1034    0.000305  \n",
      "1035    0.000275  \n",
      "1036    0.000000  \n",
      "\n",
      "[1037 rows x 4 columns]"
     ]
    }
   ],
   "source": [
    "best_model.varimp(use_pandas=True)"
   ]
  },
  {
   "cell_type": "markdown",
   "metadata": {},
   "source": [
    "# Congratulations you built your first model using Azure + PySparkling and H2O!!!"
   ]
  }
 ],
 "metadata": {
  "anaconda-cloud": {},
  "kernelspec": {
   "display_name": "PySpark",
   "language": "",
   "name": "pysparkkernel"
  },
  "language_info": {
   "codemirror_mode": {
    "name": "python",
    "version": 2
   },
   "mimetype": "text/x-python",
   "name": "pyspark",
   "pygments_lexer": "python2"
  },
  "widgets": {
   "state": {
    "686c1dc7e4944479825c4560c76f6ac5": {
     "views": [
      {
       "cell_index": 21
      }
     ]
    },
    "d417c5b90d88437b9ad9c165d8781755": {
     "views": [
      {
       "cell_index": 21
      }
     ]
    }
   },
   "version": "1.2.0"
  }
 },
 "nbformat": 4,
 "nbformat_minor": 1
}
